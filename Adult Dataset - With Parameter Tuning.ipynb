{
 "cells": [
  {
   "cell_type": "code",
   "execution_count": null,
   "metadata": {},
   "outputs": [],
   "source": [
    "#pandas for DATA Processing, reading and cleaning\n",
    "import pandas as pd\n",
    "import numpy as np\n",
    "#matplotib for plot and visulize data\n",
    "import matplotlib.pyplot as plt\n",
    "#Decorate the Graph or charts\n",
    "import seaborn as sns\n",
    "#convert vategorical value into numerical value\n",
    "from sklearn.preprocessing import LabelEncoder\n",
    "from sklearn.metrics import accuracy_score\n",
    "#For LogisticRegression\n",
    "from sklearn.linear_model import LogisticRegression\n",
    "#For GaussianNB\n",
    "from sklearn.naive_bayes import GaussianNB\n",
    "# For RandomForestClassifier\n",
    "from sklearn.ensemble import RandomForestClassifier\n",
    "# For DecisionTreeClassifier\n",
    "from sklearn.tree import DecisionTreeClassifier\n",
    "#For SVM\n",
    "from sklearn.svm import SVC"
   ]
  },
  {
   "cell_type": "code",
   "execution_count": null,
   "metadata": {},
   "outputs": [],
   "source": [
    "#Assign Headings of Columns\n",
    "heading =['age', 'workclass', 'fnlwgt', 'education', 'education-num','marital_status', 'occupation', 'relationship', 'race', 'sex', 'capital-gain', 'capital-loss', 'hours_per_week', 'native_country','income']\n",
    "#Read file from System\n",
    "#names=heading assign Heading\n",
    "#Train Data\n",
    "Train_df = pd.read_csv(\"B:/FAST DS/S1/DS500 - Data Science Tools & Techniques/A2/adult_train.csv\", names=heading)\n",
    "#Test Data\n",
    "Test_df = pd.read_csv(\"B:/FAST DS/S1/DS500 - Data Science Tools & Techniques/A2/adult_test.csv\", names=heading)\n",
    "Test_df = Test_df.iloc[1: , :]\n",
    "#Show Dimensions\n",
    "print(Train_df.shape)\n",
    "#print dataset\n",
    "Train_df"
   ]
  },
  {
   "cell_type": "markdown",
   "metadata": {},
   "source": [
    "# Provide information related Datasets rows and column\n",
    "df.info()"
   ]
  },
  {
   "cell_type": "code",
   "execution_count": null,
   "metadata": {},
   "outputs": [],
   "source": [
    "#Present count, mean, std, min 25%, 50%, 75%, and Max of all attributes\n",
    "Train_df.describe()"
   ]
  },
  {
   "cell_type": "markdown",
   "metadata": {},
   "source": [
    "# Data Cleaning"
   ]
  },
  {
   "cell_type": "code",
   "execution_count": null,
   "metadata": {},
   "outputs": [],
   "source": [
    "#Above Representation shows that  dataset has no any NULL Value. But it contains '?\"\n",
    "#For Training Data\n",
    "Train_df.isin([' ?']).sum()"
   ]
  },
  {
   "cell_type": "code",
   "execution_count": null,
   "metadata": {},
   "outputs": [],
   "source": [
    "#For Test Data\n",
    "Test_df.isin([' ?']).sum()"
   ]
  },
  {
   "cell_type": "code",
   "execution_count": null,
   "metadata": {},
   "outputs": [],
   "source": [
    "#For Training Data\n",
    "Train_df = Train_df.replace(' ?', np.nan)\n",
    "Train_df.isin([' ?']).sum()"
   ]
  },
  {
   "cell_type": "code",
   "execution_count": null,
   "metadata": {},
   "outputs": [],
   "source": [
    "#For Test Data\n",
    "Test_df = Test_df.replace(' ?', np.nan)\n",
    "Test_df.isin([' ?']).sum()"
   ]
  },
  {
   "cell_type": "code",
   "execution_count": null,
   "metadata": {},
   "outputs": [],
   "source": [
    "#For Training Data\n",
    "Train_df.isnull().sum()"
   ]
  },
  {
   "cell_type": "code",
   "execution_count": null,
   "metadata": {},
   "outputs": [],
   "source": [
    "#For Train Data\n",
    "Train_df[\"workclass\"] = Train_df[\"workclass\"].fillna(Train_df[\"workclass\"].mode())\n",
    "Train_df[\"occupation\"] = Train_df[\"occupation\"].fillna(Train_df[\"occupation\"].mode())\n",
    "Train_df[\"native_country\"] = Train_df[\"native_country\"].fillna(Train_df[\"native_country\"].mode())\n",
    "#For Train Data\n",
    "Test_df[\"workclass\"] = Test_df[\"workclass\"].fillna(Test_df[\"workclass\"].mode())\n",
    "Test_df[\"occupation\"] = Test_df[\"occupation\"].fillna(Test_df[\"occupation\"].mode())\n",
    "Test_df[\"native_country\"] = Test_df[\"native_country\"].fillna(Test_df[\"native_country\"].mode())\n"
   ]
  },
  {
   "cell_type": "markdown",
   "metadata": {},
   "source": [
    "# Data Visualization"
   ]
  },
  {
   "cell_type": "code",
   "execution_count": null,
   "metadata": {},
   "outputs": [],
   "source": [
    "income=Train_df['income'].value_counts(normalize=True)\n",
    "income*100\n",
    "#Which shown that 75.91% persons have less than or equal to 50k and 24.08% have greater than 50k"
   ]
  },
  {
   "cell_type": "markdown",
   "metadata": {},
   "source": [
    "##  Distribution on the Based on Gender and Income"
   ]
  },
  {
   "cell_type": "code",
   "execution_count": null,
   "metadata": {},
   "outputs": [],
   "source": [
    "# Now we check distribution of income on the basis of gender\n",
    "#set fram size\n",
    "plt.figure(figsize=(12,8))\n",
    "#select attributes for x and y axis here we use countplot\n",
    "graph = sns.countplot(data = Train_df, x = 'sex', hue=\"income\")\n",
    "\n",
    "#For improve isualization\n",
    "#set fotnt and labels of both axis\n",
    "plt.xlabel('Sex', fontsize=14)\n",
    "plt.ylabel('Number of Persons', fontsize=12)\n",
    "#plt.xticks([0,1],['Male','Femail'],font=12)\n",
    "plt.ylim(0,18000)\n",
    "plt.xticks([0,1],['Male', 'Female'], fontsize = 11)\n",
    "for t in graph.patches:\n",
    "    graph.annotate((t.get_height()), (t.get_x()+0.16, t.get_height()+1000))\n",
    "\n",
    "#There are more Men than Women in dataset and, Men have a higher income ratio as compared to women."
   ]
  },
  {
   "cell_type": "markdown",
   "metadata": {},
   "source": [
    "## Distribution on the Basis of Education"
   ]
  },
  {
   "cell_type": "code",
   "execution_count": null,
   "metadata": {},
   "outputs": [],
   "source": [
    "#Normailze column of education\n",
    "edu = Train_df[\"education\"].value_counts(normalize=True)\n",
    "plt.figure(figsize=(12,8))\n",
    "#select attributes for x and y axis here we use barplot\n",
    "graph = sns.barplot(edu.values, edu.index)\n",
    "plt.title('EDUCATION')\n",
    "plt.xlabel('NUMBER OF PERSONS')\n",
    "plt.ylabel('EDUCATION vs NUMBER OF PEOPLE')\n",
    "plt.tick_params(labelsize=14)\n",
    "#RESULT\n",
    "#Representation shown that the majority of people have completed HS-Grad, College or Bachelors level education"
   ]
  },
  {
   "cell_type": "markdown",
   "metadata": {},
   "source": [
    "## Distribution on the Based of Income and Education"
   ]
  },
  {
   "cell_type": "code",
   "execution_count": null,
   "metadata": {},
   "outputs": [],
   "source": [
    "plt.figure(figsize=(20, 7))\n",
    "sns.countplot(Train_df['education'], hue=Train_df['income'])\n",
    "plt.xlabel('Education')\n",
    "plt.ylabel('Number of people')\n",
    "plt.tick_params(labelsize=12)\n",
    "plt.show()\n",
    "#RESULT\n",
    "#Representation shown that the bachelors students have >50 incomes as comare to other and HS_grade and College students have <=50. "
   ]
  },
  {
   "cell_type": "markdown",
   "metadata": {},
   "source": [
    "## Distribution on the based of Marital Status"
   ]
  },
  {
   "cell_type": "code",
   "execution_count": null,
   "metadata": {},
   "outputs": [],
   "source": [
    "Train_df['marital_status'].value_counts()"
   ]
  },
  {
   "cell_type": "code",
   "execution_count": null,
   "metadata": {},
   "outputs": [],
   "source": [
    "#Normailze column of Marital_Status\n",
    "edu = Train_df[\"marital_status\"].value_counts(normalize=True)\n",
    "plt.figure(figsize=(12,4))\n",
    "#select attributes for x and y axis here we use barplot\n",
    "graph = sns.barplot(edu.values, edu.index)\n",
    "plt.title('Marital Status')\n",
    "plt.xlabel('NUMBER OF PERSONS')\n",
    "plt.ylabel('Marital Status vs Number of People')\n",
    "plt.tick_params(labelsize=14)\n",
    "#RESULT\n",
    "#Representation shown that the majority of people have Married, Never Married status"
   ]
  },
  {
   "cell_type": "markdown",
   "metadata": {},
   "source": [
    "## Distribution on the Based of Income and Marital Status"
   ]
  },
  {
   "cell_type": "code",
   "execution_count": null,
   "metadata": {},
   "outputs": [],
   "source": [
    "plt.figure(figsize=(20, 5))\n",
    "sns.countplot(Train_df['marital_status'], hue=Train_df['income'])\n",
    "plt.xlabel('Marital Status')\n",
    "plt.ylabel('Income')\n",
    "plt.tick_params(labelsize=12)"
   ]
  },
  {
   "cell_type": "markdown",
   "metadata": {},
   "source": [
    "## Distribution on the Based of Age"
   ]
  },
  {
   "cell_type": "code",
   "execution_count": null,
   "metadata": {},
   "outputs": [],
   "source": [
    "plt.figure(figsize=(12,4))\n",
    "sns.distplot(Train_df['age'])\n",
    "plt.ylabel('Numbers of People')\n",
    "#RESULT\n",
    "#Representation shown that Average age is approx between 38y to 40y "
   ]
  },
  {
   "cell_type": "markdown",
   "metadata": {},
   "source": [
    "## Distribution on the Based of Race"
   ]
  },
  {
   "cell_type": "code",
   "execution_count": null,
   "metadata": {},
   "outputs": [],
   "source": [
    "plt.figure(figsize=(18,5))\n",
    "graph = sns.countplot(data = Train_df, x = 'race', hue=\"income\")\n",
    "plt.xlabel(\"race\", fontsize= 12)\n",
    "plt.ylabel(\"Income\", fontsize= 12)\n",
    "for t in graph.patches:\n",
    "    graph.annotate((t.get_height()), (t.get_x()+0.20, t.get_height()+1000))\n",
    "#Result shows that white people so dominet in effect of income as compare to dothers"
   ]
  },
  {
   "cell_type": "markdown",
   "metadata": {},
   "source": [
    "## Distribution on the Based of Average Hours per Week"
   ]
  },
  {
   "cell_type": "code",
   "execution_count": null,
   "metadata": {},
   "outputs": [],
   "source": [
    "plt.figure(figsize=(15,5))\n",
    "sns.distplot(Train_df['hours_per_week'])\n",
    "plt.ticklabel_format(style='plain', axis='x') #repressing scientific notation on x\n",
    "plt.xlabel(\"Hours Per Week\", fontsize= 12)\n",
    "Train_df['hours_per_week'].mean()\n",
    "#Average hours_per_week is 40.43 which shown in figure"
   ]
  },
  {
   "cell_type": "markdown",
   "metadata": {},
   "source": [
    "# Features Selection"
   ]
  },
  {
   "cell_type": "code",
   "execution_count": null,
   "metadata": {},
   "outputs": [],
   "source": [
    "#convert =<50 to 0 and >50 to 1\n",
    "le = LabelEncoder()\n",
    "Train_df['income'] = le.fit_transform(Train_df['income'])\n",
    "Train_df"
   ]
  },
  {
   "cell_type": "code",
   "execution_count": null,
   "metadata": {},
   "outputs": [],
   "source": [
    "Train_df.dtypes\n",
    "Test_df.dtypes"
   ]
  },
  {
   "cell_type": "code",
   "execution_count": null,
   "metadata": {},
   "outputs": [],
   "source": [
    "#Covert Catagorical values into Numerical values\n",
    "#For Train Data\n",
    "for col in Train_df.columns:\n",
    "    if Train_df[col].dtypes == 'object':\n",
    "        le = LabelEncoder()\n",
    "        Train_df[col] = le.fit_transform(Train_df[col].astype(str))\n",
    "Train_df.dtypes"
   ]
  },
  {
   "cell_type": "code",
   "execution_count": null,
   "metadata": {},
   "outputs": [],
   "source": [
    "#FOR test data\n",
    "for col in Test_df.columns:\n",
    "    if Test_df[col].dtypes == 'object' or Test_df[col].dtypes == 'float64':\n",
    "        le = LabelEncoder()\n",
    "        Test_df[col] = le.fit_transform(Test_df[col].astype(str))\n",
    "Test_df.dtypes"
   ]
  },
  {
   "cell_type": "code",
   "execution_count": null,
   "metadata": {},
   "outputs": [],
   "source": [
    "plt.subplots(figsize=(20, 10))\n",
    "sns.heatmap(Train_df.corr(), vmax=.9, square=True, annot=True, fmt='.1f', center=0)\n",
    "plt.show()"
   ]
  },
  {
   "cell_type": "code",
   "execution_count": null,
   "metadata": {},
   "outputs": [],
   "source": [
    "#above map shos that education, fnlwgt, native-country shows 0 correlation as comapre to other\n",
    "#so drop both column\n",
    "Final_data = Train_df.drop([\"fnlwgt\",\"education\",\"native_country\"],axis=1)\n",
    "#in same way remove from Test dataset\n",
    "Test_df = Test_df.drop([\"fnlwgt\",\"education\",\"native_country\"],axis=1)\n",
    "#Test_df\n",
    "\n",
    "Final_data"
   ]
  },
  {
   "cell_type": "code",
   "execution_count": null,
   "metadata": {},
   "outputs": [],
   "source": [
    "X_final_train = Final_data.drop('income', axis =1)\n",
    "Y_final_train = Final_data['income']"
   ]
  },
  {
   "cell_type": "markdown",
   "metadata": {},
   "source": [
    "# Logistic Regression"
   ]
  },
  {
   "cell_type": "markdown",
   "metadata": {},
   "source": [
    "## Training"
   ]
  },
  {
   "cell_type": "code",
   "execution_count": null,
   "metadata": {},
   "outputs": [],
   "source": [
    "LR_model = LogisticRegression(solver = \"liblinear\")\n",
    "LR_model.fit(X_final_train, Y_final_train)\n",
    "LR_model"
   ]
  },
  {
   "cell_type": "markdown",
   "metadata": {},
   "source": [
    "## Testing"
   ]
  },
  {
   "cell_type": "code",
   "execution_count": null,
   "metadata": {},
   "outputs": [],
   "source": [
    "X_Test_df = Test_df.drop('income', axis =1)\n",
    "Y_Test_df = Test_df['income']"
   ]
  },
  {
   "cell_type": "code",
   "execution_count": null,
   "metadata": {},
   "outputs": [],
   "source": [
    "predicted_classes = LR_model.predict(X_Test_df)"
   ]
  },
  {
   "cell_type": "code",
   "execution_count": null,
   "metadata": {},
   "outputs": [],
   "source": [
    "accuracy_score(predicted_classes, Y_Test_df)*100"
   ]
  },
  {
   "cell_type": "code",
   "execution_count": null,
   "metadata": {},
   "outputs": [],
   "source": [
    "from sklearn.metrics import accuracy_score\n",
    "from sklearn.metrics import f1_score\n",
    "from sklearn.metrics import mean_squared_error\n",
    "print(\"Logistic Regression:\")\n",
    "print(\"Accuracy score:\", round(accuracy_score(Y_Test_df, predicted_classes) * 100, 3))\n",
    "print(\"F1 Score: \", round(f1_score(Y_Test_df, predicted_classes) * 100,3))\n",
    "print(\"MSE: \", round(mean_squared_error(Y_Test_df, predicted_classes) * 100,3))"
   ]
  },
  {
   "cell_type": "code",
   "execution_count": null,
   "metadata": {},
   "outputs": [],
   "source": [
    "from sklearn.metrics import confusion_matrix \n",
    "cfm = confusion_matrix(predicted_classes, Y_Test_df)\n",
    "sns.heatmap(cfm, annot=True)\n",
    "plt.xlabel('Predicted classes')\n",
    "plt.ylabel('Actual classes')"
   ]
  },
  {
   "cell_type": "markdown",
   "metadata": {},
   "source": [
    "# GaussianNB"
   ]
  },
  {
   "cell_type": "markdown",
   "metadata": {},
   "source": [
    "## Tranining"
   ]
  },
  {
   "cell_type": "code",
   "execution_count": null,
   "metadata": {},
   "outputs": [],
   "source": [
    "GNB_model = GaussianNB()\n",
    "GNB_model.fit(X_final_train, Y_final_train)"
   ]
  },
  {
   "cell_type": "markdown",
   "metadata": {},
   "source": [
    "## Testing"
   ]
  },
  {
   "cell_type": "code",
   "execution_count": null,
   "metadata": {},
   "outputs": [],
   "source": [
    "predicted_classes = GNB_model.predict(X_Test_df)\n",
    "accuracy_score(predicted_classes, Y_Test_df)*100"
   ]
  },
  {
   "cell_type": "code",
   "execution_count": null,
   "metadata": {},
   "outputs": [],
   "source": [
    "print(\"GaussianNB:\")\n",
    "print(\"Accuracy score:\", round(accuracy_score(Y_Test_df, predicted_classes) * 100, 3))\n",
    "print(\"F1 Score: \", round(f1_score(Y_Test_df, predicted_classes) * 100,3))\n",
    "print(\"MSE: \", round(mean_squared_error(Y_Test_df, predicted_classes) * 100,3))"
   ]
  },
  {
   "cell_type": "code",
   "execution_count": null,
   "metadata": {},
   "outputs": [],
   "source": [
    "from sklearn.metrics import confusion_matrix \n",
    "cfm = confusion_matrix(predicted_classes, Y_Test_df)\n",
    "sns.heatmap(cfm, annot=True)\n",
    "plt.xlabel('Predicted classes')\n",
    "plt.ylabel('Actual classes')"
   ]
  },
  {
   "cell_type": "markdown",
   "metadata": {},
   "source": [
    "# Random Forest Classifier"
   ]
  },
  {
   "cell_type": "code",
   "execution_count": null,
   "metadata": {},
   "outputs": [],
   "source": [
    "RFC_model = RandomForestClassifier()\n",
    "RFC_model.fit(X_final_train, Y_final_train)"
   ]
  },
  {
   "cell_type": "code",
   "execution_count": null,
   "metadata": {},
   "outputs": [],
   "source": [
    "predicted_classes = RFC_model.predict(X_Test_df)"
   ]
  },
  {
   "cell_type": "code",
   "execution_count": null,
   "metadata": {},
   "outputs": [],
   "source": [
    "print(\"Random Forest Classifier:\")\n",
    "print(\"Accuracy score:\", round(accuracy_score(Y_Test_df, predicted_classes) * 100, 3))\n",
    "print(\"F1 Score: \", round(f1_score(Y_Test_df, predicted_classes) * 100,3))\n",
    "print(\"MSE: \", round(mean_squared_error(Y_Test_df, predicted_classes) * 100,3))"
   ]
  },
  {
   "cell_type": "code",
   "execution_count": null,
   "metadata": {},
   "outputs": [],
   "source": [
    "from sklearn.metrics import confusion_matrix \n",
    "cfm = confusion_matrix(predicted_classes, Y_Test_df)\n",
    "sns.heatmap(cfm, annot=True)\n",
    "plt.xlabel('Predicted classes')\n",
    "plt.ylabel('Actual classes')"
   ]
  },
  {
   "cell_type": "markdown",
   "metadata": {},
   "source": [
    "# Decision Tree Classifier"
   ]
  },
  {
   "cell_type": "code",
   "execution_count": null,
   "metadata": {},
   "outputs": [],
   "source": [
    "DTC_model = DecisionTreeClassifier()\n",
    "DTC_model.fit(X_final_train, Y_final_train)"
   ]
  },
  {
   "cell_type": "code",
   "execution_count": null,
   "metadata": {},
   "outputs": [],
   "source": [
    "predicted_classes = DTC_model.predict(X_Test_df)"
   ]
  },
  {
   "cell_type": "code",
   "execution_count": null,
   "metadata": {},
   "outputs": [],
   "source": [
    "print(\"Decision Tree Classifier:\")\n",
    "print(\"Accuracy score:\", round(accuracy_score(Y_Test_df, predicted_classes) * 100, 3))\n",
    "print(\"F1 Score: \", round(f1_score(Y_Test_df, predicted_classes) * 100,3))\n",
    "print(\"MSE: \", round(mean_squared_error(Y_Test_df, predicted_classes) * 100,3))"
   ]
  },
  {
   "cell_type": "code",
   "execution_count": null,
   "metadata": {},
   "outputs": [],
   "source": [
    "from sklearn.metrics import confusion_matrix \n",
    "cfm = confusion_matrix(predicted_classes, Y_Test_df)\n",
    "sns.heatmap(cfm, annot=True)\n",
    "plt.xlabel('Predicted classes')\n",
    "plt.ylabel('Actual classes')"
   ]
  },
  {
   "cell_type": "markdown",
   "metadata": {},
   "source": [
    "# SVC"
   ]
  },
  {
   "cell_type": "code",
   "execution_count": null,
   "metadata": {},
   "outputs": [],
   "source": [
    "SVC_model = SVC()\n",
    "SVC_model.fit(X_final_train, Y_final_train)"
   ]
  },
  {
   "cell_type": "code",
   "execution_count": null,
   "metadata": {},
   "outputs": [],
   "source": [
    "predicted_classes = SVC_model.predict(X_Test_df)"
   ]
  },
  {
   "cell_type": "code",
   "execution_count": null,
   "metadata": {},
   "outputs": [],
   "source": [
    "print(\"Decision Tree Classifier:\")\n",
    "print(\"Accuracy score:\", round(accuracy_score(Y_Test_df, predicted_classes) * 100, 3))\n",
    "print(\"F1 Score: \", round(f1_score(Y_Test_df, predicted_classes) * 100,3))\n",
    "print(\"MSE: \", round(mean_squared_error(Y_Test_df, predicted_classes) * 100,3))"
   ]
  },
  {
   "cell_type": "code",
   "execution_count": null,
   "metadata": {},
   "outputs": [],
   "source": [
    "from sklearn.metrics import confusion_matrix \n",
    "cfm = confusion_matrix(predicted_classes, Y_Test_df)\n",
    "sns.heatmap(cfm, annot=True)\n",
    "plt.xlabel('Predicted classes')\n",
    "plt.ylabel('Actual classes')"
   ]
  },
  {
   "cell_type": "code",
   "execution_count": null,
   "metadata": {},
   "outputs": [],
   "source": []
  }
 ],
 "metadata": {
  "kernelspec": {
   "display_name": "Python 3",
   "language": "python",
   "name": "python3"
  },
  "language_info": {
   "codemirror_mode": {
    "name": "ipython",
    "version": 3
   },
   "file_extension": ".py",
   "mimetype": "text/x-python",
   "name": "python",
   "nbconvert_exporter": "python",
   "pygments_lexer": "ipython3",
   "version": "3.8.5"
  }
 },
 "nbformat": 4,
 "nbformat_minor": 4
}
